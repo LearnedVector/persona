{
 "cells": [
  {
   "cell_type": "markdown",
   "metadata": {},
   "source": [
    "# Persona Intent Parsing"
   ]
  },
  {
   "cell_type": "code",
   "execution_count": 1,
   "metadata": {
    "collapsed": true
   },
   "outputs": [],
   "source": [
    "%load_ext autoreload\n",
    "%autoreload 2"
   ]
  },
  {
   "cell_type": "code",
   "execution_count": 2,
   "metadata": {
    "collapsed": true
   },
   "outputs": [],
   "source": [
    "from persona.preprocess import prepare_json_data, pad_sequences, integer_encode, one_hot_encode, one_hot_encode_target\n",
    "import random"
   ]
  },
  {
   "cell_type": "markdown",
   "metadata": {},
   "source": [
    "## Preprocess the data"
   ]
  },
  {
   "cell_type": "code",
   "execution_count": 3,
   "metadata": {},
   "outputs": [
    {
     "name": "stdout",
     "output_type": "stream",
     "text": [
      "READ 816 sentence pairs\n",
      "Trimmed to 816 sentence pairs\n",
      "Counting words...\n",
      "Counted Words:\n",
      "input 244\n",
      "output 53\n"
     ]
    }
   ],
   "source": [
    "MAX_SEQ_LEN = 15\n",
    "input_word_model, output_word_model, pairs = \\\n",
    "    prepare_json_data('input', 'output', './data/persona.intents.json', MAX_SEQ_LEN)"
   ]
  },
  {
   "cell_type": "code",
   "execution_count": 4,
   "metadata": {},
   "outputs": [
    {
     "name": "stdout",
     "output_type": "stream",
     "text": [
      "application using top ram --> mem.max.process\n",
      "stop the alarm --> alarm.stop\n",
      "remove alarm --> alarm.remove\n",
      "how do i start {skill} --> how.do.i.activate\n",
      "what alarms do i have --> alarm.list\n",
      "list the things to do --> show\n",
      "disable the alarm --> alarm.remove\n",
      "begin audio recording --> record.begin\n",
      "what app is using all the mem --> mem.max.process\n",
      "what s going on --> whats.up\n"
     ]
    }
   ],
   "source": [
    "input_seqs = [pair[0] for pair in pairs]\n",
    "intent = [pair[1] for pair in pairs]\n",
    "for i in range(10):\n",
    "    rando = random.randint(0, len(pairs))\n",
    "    print(input_seqs[rando],\"-->\" ,intent[rando])"
   ]
  },
  {
   "cell_type": "markdown",
   "metadata": {},
   "source": [
    "#### Pad the input\n",
    "This process will add the PAD, SOS, EOS, and UNK tokens to sequence"
   ]
  },
  {
   "cell_type": "code",
   "execution_count": 5,
   "metadata": {
    "scrolled": true
   },
   "outputs": [
    {
     "name": "stdout",
     "output_type": "stream",
     "text": [
      "['SOS', 'why', 'did', '{skill}', 'fail', 'EOS', 'PAD', 'PAD', 'PAD', 'PAD', 'PAD', 'PAD', 'PAD', 'PAD', 'PAD']\n"
     ]
    }
   ],
   "source": [
    "padded_input = pad_sequences(input_seqs, MAX_SEQ_LEN)\n",
    "print(padded_input[1])"
   ]
  },
  {
   "cell_type": "markdown",
   "metadata": {},
   "source": [
    "#### One hot encode"
   ]
  },
  {
   "cell_type": "code",
   "execution_count": 6,
   "metadata": {},
   "outputs": [
    {
     "data": {
      "text/plain": [
       "(816, 15, 244)"
      ]
     },
     "execution_count": 6,
     "metadata": {},
     "output_type": "execute_result"
    }
   ],
   "source": [
    "one_hot_input = one_hot_encode(padded_input, input_word_model, MAX_SEQ_LEN)\n",
    "one_hot_input.shape"
   ]
  },
  {
   "cell_type": "code",
   "execution_count": 7,
   "metadata": {
    "scrolled": false
   },
   "outputs": [
    {
     "name": "stdout",
     "output_type": "stream",
     "text": [
      "(816, 53)\n"
     ]
    }
   ],
   "source": [
    "one_hot_output = one_hot_encode([intent], output_word_model, len(intent))[0]\n",
    "print(one_hot_output.shape)"
   ]
  },
  {
   "cell_type": "markdown",
   "metadata": {},
   "source": [
    "## Build and Train the Model"
   ]
  },
  {
   "cell_type": "code",
   "execution_count": 8,
   "metadata": {},
   "outputs": [
    {
     "name": "stderr",
     "output_type": "stream",
     "text": [
      "Using TensorFlow backend.\n"
     ]
    }
   ],
   "source": [
    "from persona.intent.model import IntentModel"
   ]
  },
  {
   "cell_type": "code",
   "execution_count": 9,
   "metadata": {
    "scrolled": false
   },
   "outputs": [
    {
     "name": "stdout",
     "output_type": "stream",
     "text": [
      "_________________________________________________________________\n",
      "Layer (type)                 Output Shape              Param #   \n",
      "=================================================================\n",
      "lstm_1 (LSTM)                (None, 128)               190976    \n",
      "_________________________________________________________________\n",
      "dense_1 (Dense)              (None, 53)                6837      \n",
      "=================================================================\n",
      "Total params: 197,813\n",
      "Trainable params: 197,813\n",
      "Non-trainable params: 0\n",
      "_________________________________________________________________\n",
      "Epoch 1/100\n",
      "816/816 [==============================] - 1s - loss: 3.8423     \n",
      "Epoch 2/100\n",
      "816/816 [==============================] - 0s - loss: 3.2222     \n",
      "Epoch 3/100\n",
      "816/816 [==============================] - 0s - loss: 3.1586     \n",
      "Epoch 4/100\n",
      "816/816 [==============================] - 0s - loss: 3.0804     \n",
      "Epoch 5/100\n",
      "816/816 [==============================] - 0s - loss: 2.9361     \n",
      "Epoch 6/100\n",
      "816/816 [==============================] - 0s - loss: 2.9654     \n",
      "Epoch 7/100\n",
      "816/816 [==============================] - 0s - loss: 2.8668     \n",
      "Epoch 8/100\n",
      "816/816 [==============================] - 0s - loss: 2.8680     \n",
      "Epoch 9/100\n",
      "816/816 [==============================] - 0s - loss: 2.7745     \n",
      "Epoch 10/100\n",
      "816/816 [==============================] - 0s - loss: 2.7333     \n",
      "Epoch 11/100\n",
      "816/816 [==============================] - 0s - loss: 2.7308     \n",
      "Epoch 12/100\n",
      "816/816 [==============================] - 0s - loss: 2.9299     \n",
      "Epoch 13/100\n",
      "816/816 [==============================] - 0s - loss: 2.6466     \n",
      "Epoch 14/100\n",
      "816/816 [==============================] - 0s - loss: 2.4500     \n",
      "Epoch 15/100\n",
      "816/816 [==============================] - 0s - loss: 2.5356     \n",
      "Epoch 16/100\n",
      "816/816 [==============================] - 0s - loss: 2.4087     \n",
      "Epoch 17/100\n",
      "816/816 [==============================] - 0s - loss: 2.3450     \n",
      "Epoch 18/100\n",
      "816/816 [==============================] - 0s - loss: 2.6158     \n",
      "Epoch 19/100\n",
      "816/816 [==============================] - 0s - loss: 2.0749     \n",
      "Epoch 20/100\n",
      "816/816 [==============================] - 0s - loss: 2.1436     \n",
      "Epoch 21/100\n",
      "816/816 [==============================] - 0s - loss: 1.9455     \n",
      "Epoch 22/100\n",
      "816/816 [==============================] - 0s - loss: 2.1985     \n",
      "Epoch 23/100\n",
      "816/816 [==============================] - 0s - loss: 1.8060     \n",
      "Epoch 24/100\n",
      "816/816 [==============================] - 0s - loss: 1.6709     \n",
      "Epoch 25/100\n",
      "816/816 [==============================] - 0s - loss: 1.8304     \n",
      "Epoch 26/100\n",
      "816/816 [==============================] - 0s - loss: 2.6292     \n",
      "Epoch 27/100\n",
      "816/816 [==============================] - 0s - loss: 1.7741     \n",
      "Epoch 28/100\n",
      "816/816 [==============================] - 0s - loss: 1.4935     \n",
      "Epoch 29/100\n",
      "816/816 [==============================] - 0s - loss: 1.8695     \n",
      "Epoch 30/100\n",
      "816/816 [==============================] - 0s - loss: 1.3826     \n",
      "Epoch 31/100\n",
      "816/816 [==============================] - 0s - loss: 1.5373     \n",
      "Epoch 32/100\n",
      "816/816 [==============================] - 0s - loss: 1.4571     \n",
      "Epoch 33/100\n",
      "816/816 [==============================] - 0s - loss: 1.2922     \n",
      "Epoch 34/100\n",
      "816/816 [==============================] - 0s - loss: 1.6658     \n",
      "Epoch 35/100\n",
      "816/816 [==============================] - 0s - loss: 1.3894     \n",
      "Epoch 36/100\n",
      "816/816 [==============================] - 0s - loss: 1.3012     \n",
      "Epoch 37/100\n",
      "816/816 [==============================] - 0s - loss: 1.6197     \n",
      "Epoch 38/100\n",
      "816/816 [==============================] - 0s - loss: 1.0351     \n",
      "Epoch 39/100\n",
      "816/816 [==============================] - 0s - loss: 1.6931     \n",
      "Epoch 40/100\n",
      "816/816 [==============================] - 0s - loss: 0.9641     \n",
      "Epoch 41/100\n",
      "816/816 [==============================] - 0s - loss: 1.7616     \n",
      "Epoch 42/100\n",
      "816/816 [==============================] - 0s - loss: 0.9572     \n",
      "Epoch 43/100\n",
      "816/816 [==============================] - 0s - loss: 0.8144     \n",
      "Epoch 44/100\n",
      "816/816 [==============================] - 0s - loss: 1.3786     \n",
      "Epoch 45/100\n",
      "816/816 [==============================] - 0s - loss: 0.7994     \n",
      "Epoch 46/100\n",
      "816/816 [==============================] - 0s - loss: 0.7133     \n",
      "Epoch 47/100\n",
      "816/816 [==============================] - 0s - loss: 1.5031     \n",
      "Epoch 48/100\n",
      "816/816 [==============================] - 0s - loss: 0.6454     \n",
      "Epoch 49/100\n",
      "816/816 [==============================] - 0s - loss: 0.6265     \n",
      "Epoch 50/100\n",
      "816/816 [==============================] - 0s - loss: 1.1398     \n",
      "Epoch 51/100\n",
      "816/816 [==============================] - 0s - loss: 0.5760     \n",
      "Epoch 52/100\n",
      "816/816 [==============================] - 0s - loss: 0.5157     \n",
      "Epoch 53/100\n",
      "816/816 [==============================] - 0s - loss: 1.3588     \n",
      "Epoch 54/100\n",
      "816/816 [==============================] - 0s - loss: 0.4825     \n",
      "Epoch 55/100\n",
      "816/816 [==============================] - 0s - loss: 0.5071     \n",
      "Epoch 56/100\n",
      "816/816 [==============================] - 0s - loss: 0.8134     \n",
      "Epoch 57/100\n",
      "816/816 [==============================] - 0s - loss: 0.4367     \n",
      "Epoch 58/100\n",
      "816/816 [==============================] - 0s - loss: 0.5808     \n",
      "Epoch 59/100\n",
      "816/816 [==============================] - 0s - loss: 0.5193     \n",
      "Epoch 60/100\n",
      "816/816 [==============================] - 0s - loss: 0.3727     \n",
      "Epoch 61/100\n",
      "816/816 [==============================] - 0s - loss: 0.9100     \n",
      "Epoch 62/100\n",
      "816/816 [==============================] - 0s - loss: 0.4338     \n",
      "Epoch 63/100\n",
      "816/816 [==============================] - 0s - loss: 0.6701     \n",
      "Epoch 64/100\n",
      "816/816 [==============================] - 0s - loss: 0.3423     \n",
      "Epoch 65/100\n",
      "816/816 [==============================] - 0s - loss: 0.5178     \n",
      "Epoch 66/100\n",
      "816/816 [==============================] - 0s - loss: 0.7957     \n",
      "Epoch 67/100\n",
      "816/816 [==============================] - 0s - loss: 0.5180     \n",
      "Epoch 68/100\n",
      "816/816 [==============================] - 0s - loss: 0.2734     \n",
      "Epoch 69/100\n",
      "816/816 [==============================] - 0s - loss: 0.2660     \n",
      "Epoch 70/100\n",
      "816/816 [==============================] - 0s - loss: 0.7345     \n",
      "Epoch 71/100\n",
      "816/816 [==============================] - 0s - loss: 0.2460     \n",
      "Epoch 72/100\n",
      "816/816 [==============================] - 0s - loss: 0.2696     \n",
      "Epoch 73/100\n",
      "816/816 [==============================] - 0s - loss: 0.8969     \n",
      "Epoch 74/100\n",
      "816/816 [==============================] - 0s - loss: 0.2319     \n",
      "Epoch 75/100\n",
      "816/816 [==============================] - 0s - loss: 0.1933     \n",
      "Epoch 76/100\n",
      "816/816 [==============================] - 0s - loss: 0.4910     \n",
      "Epoch 77/100\n",
      "816/816 [==============================] - 0s - loss: 0.2353     \n",
      "Epoch 78/100\n",
      "816/816 [==============================] - 0s - loss: 0.1650     \n",
      "Epoch 79/100\n",
      "816/816 [==============================] - 0s - loss: 0.7119     \n",
      "Epoch 80/100\n",
      "816/816 [==============================] - 0s - loss: 0.2803     \n",
      "Epoch 81/100\n",
      "816/816 [==============================] - 0s - loss: 0.1442     \n",
      "Epoch 82/100\n",
      "816/816 [==============================] - 0s - loss: 0.6546     \n",
      "Epoch 83/100\n",
      "816/816 [==============================] - 0s - loss: 0.1388     \n",
      "Epoch 84/100\n",
      "816/816 [==============================] - 0s - loss: 0.1259     \n",
      "Epoch 85/100\n",
      "816/816 [==============================] - 0s - loss: 0.7298     \n",
      "Epoch 86/100\n",
      "816/816 [==============================] - 0s - loss: 0.1229     \n",
      "Epoch 87/100\n",
      "816/816 [==============================] - 0s - loss: 0.6089     \n",
      "Epoch 88/100\n",
      "816/816 [==============================] - 0s - loss: 0.1352     \n",
      "Epoch 89/100\n",
      "816/816 [==============================] - 0s - loss: 0.1160     \n",
      "Epoch 90/100\n",
      "816/816 [==============================] - 0s - loss: 0.4970     \n",
      "Epoch 91/100\n",
      "816/816 [==============================] - 0s - loss: 0.1118     \n",
      "Epoch 92/100\n",
      "816/816 [==============================] - 0s - loss: 0.1008     - ETA: 0s - l\n",
      "Epoch 93/100\n",
      "816/816 [==============================] - 1s - loss: 0.1004     \n",
      "Epoch 94/100\n",
      "816/816 [==============================] - 0s - loss: 0.4902     \n",
      "Epoch 95/100\n",
      "816/816 [==============================] - 0s - loss: 0.0937     \n",
      "Epoch 96/100\n",
      "816/816 [==============================] - 0s - loss: 0.0878     \n",
      "Epoch 97/100\n"
     ]
    },
    {
     "name": "stdout",
     "output_type": "stream",
     "text": [
      "816/816 [==============================] - 0s - loss: 0.5674     \n",
      "Epoch 98/100\n",
      "816/816 [==============================] - 0s - loss: 0.0815     \n",
      "Epoch 99/100\n",
      "816/816 [==============================] - 0s - loss: 0.3837     \n",
      "Epoch 100/100\n",
      "816/816 [==============================] - 0s - loss: 0.2079     \n"
     ]
    }
   ],
   "source": [
    "model = IntentModel(one_hot_input, one_hot_output, input_word_model.n_words, output_word_model.n_words)\n",
    "model.train(summary=True)"
   ]
  },
  {
   "cell_type": "code",
   "execution_count": 10,
   "metadata": {},
   "outputs": [
    {
     "name": "stdout",
     "output_type": "stream",
     "text": [
      "input:  stop the alarm\n",
      "intent:  alarm.stop 0.608037\n",
      "input: remove alarm\n",
      "intent:  alarm.remove 0.585099\n",
      "input: what is the weather\n",
      "intent:  weather.current 0.965198\n",
      "input: what time is it\n",
      "intent:  time 0.978605\n",
      "input: cpu usage\n",
      "intent:  cpu.total.usage 0.781115\n",
      "input: what app is using mem\n",
      "intent:  mem.max.process 1.0\n"
     ]
    }
   ],
   "source": [
    "from persona.preprocess import pad_sequence\n",
    "\n",
    "try:\n",
    "    while True:\n",
    "        _input = input(\"input: \")\n",
    "        padded_input = [pad_sequence(_input, MAX_SEQ_LEN).split()]\n",
    "        one_hot = one_hot_encode(padded_input, input_word_model, MAX_SEQ_LEN)\n",
    "        prediction, confidence = model.decode(one_hot, output_word_model)\n",
    "        print(\"intent: \", prediction, confidence)\n",
    "except KeyboardInterrupt:\n",
    "    pass"
   ]
  }
 ],
 "metadata": {
  "kernelspec": {
   "display_name": "Python 3",
   "language": "python",
   "name": "python3"
  },
  "language_info": {
   "codemirror_mode": {
    "name": "ipython",
    "version": 3
   },
   "file_extension": ".py",
   "mimetype": "text/x-python",
   "name": "python",
   "nbconvert_exporter": "python",
   "pygments_lexer": "ipython3",
   "version": "3.5.3"
  }
 },
 "nbformat": 4,
 "nbformat_minor": 2
}
