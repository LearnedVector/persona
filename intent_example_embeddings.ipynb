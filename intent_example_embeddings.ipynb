{
 "cells": [
  {
   "cell_type": "markdown",
   "metadata": {},
   "source": [
    "# Persona Intent Parsing using word embeddings"
   ]
  },
  {
   "cell_type": "code",
   "execution_count": 1,
   "metadata": {
    "collapsed": true
   },
   "outputs": [],
   "source": [
    "%load_ext autoreload\n",
    "%autoreload 2"
   ]
  },
  {
   "cell_type": "code",
   "execution_count": 2,
   "metadata": {
    "collapsed": true
   },
   "outputs": [],
   "source": [
    "from persona.preprocess import (\n",
    "    prepare_json_data, pad_sequences, integer_encode, \n",
    "    one_hot_encode, one_hot_encode_target)\n",
    "import random"
   ]
  },
  {
   "cell_type": "markdown",
   "metadata": {},
   "source": [
    "## Preprocess the data"
   ]
  },
  {
   "cell_type": "code",
   "execution_count": 3,
   "metadata": {},
   "outputs": [
    {
     "name": "stdout",
     "output_type": "stream",
     "text": [
      "READ 816 sentence pairs\n",
      "Trimmed to 816 sentence pairs\n",
      "Counting words...\n",
      "Counted Words:\n",
      "input 244\n",
      "output 53\n"
     ]
    }
   ],
   "source": [
    "MAX_SEQ_LEN = 15\n",
    "input_word_model, output_word_model, pairs = \\\n",
    "    prepare_json_data('input', 'output', './data/persona.intents.json', MAX_SEQ_LEN)"
   ]
  },
  {
   "cell_type": "code",
   "execution_count": 4,
   "metadata": {},
   "outputs": [
    {
     "name": "stdout",
     "output_type": "stream",
     "text": [
      "open {place} in a file manager  --> open.place\n",
      "app with max mem --> mem.max.process\n",
      "what s using the mem --> mem.max.process\n",
      "stop recording --> record.end\n",
      "program with most mem --> mem.max.process\n",
      "erase my todo list --> remove.all\n",
      "what s the forecast --> weather.current\n",
      "python how to do {action} --> ask\n",
      "program using max mem --> mem.max.process\n",
      "what process is using up the cpu --> cpu.max.process\n"
     ]
    }
   ],
   "source": [
    "input_seqs = [pair[0] for pair in pairs]\n",
    "intent = [pair[1] for pair in pairs]\n",
    "for i in range(10):\n",
    "    rando = random.randint(0, len(pairs))\n",
    "    print(input_seqs[rando],\"-->\" ,intent[rando])"
   ]
  },
  {
   "cell_type": "markdown",
   "metadata": {},
   "source": [
    "#### Pad the input\n",
    "This process will add the PAD, SOS, EOS, and UNK tokens to sequence"
   ]
  },
  {
   "cell_type": "code",
   "execution_count": 5,
   "metadata": {
    "scrolled": true
   },
   "outputs": [
    {
     "name": "stdout",
     "output_type": "stream",
     "text": [
      "['SOS', 'why', 'did', '{skill}', 'fail', 'EOS', 'PAD', 'PAD', 'PAD', 'PAD', 'PAD', 'PAD', 'PAD', 'PAD', 'PAD']\n"
     ]
    }
   ],
   "source": [
    "padded_input = pad_sequences(input_seqs, MAX_SEQ_LEN)\n",
    "print(padded_input[1])"
   ]
  },
  {
   "cell_type": "markdown",
   "metadata": {},
   "source": [
    "#### Integer Encode"
   ]
  },
  {
   "cell_type": "markdown",
   "metadata": {},
   "source": [
    "We encode the sentences into integer to used im embeddings. We will be using the integers as an index for what is essentially a look up table to get the latent vector of that word"
   ]
  },
  {
   "cell_type": "code",
   "execution_count": 6,
   "metadata": {},
   "outputs": [
    {
     "name": "stdout",
     "output_type": "stream",
     "text": [
      "(816, 15)\n",
      "[ 1.  4.  5.  6.  7.  8.  9.  2.  0.  0.  0.  0.  0.  0.  0.]\n"
     ]
    }
   ],
   "source": [
    "int_encoded_input = integer_encode(padded_input, input_word_model, MAX_SEQ_LEN)\n",
    "print(int_encoded_input.shape)\n",
    "print(int_encoded_input[0])"
   ]
  },
  {
   "cell_type": "markdown",
   "metadata": {},
   "source": [
    "#### One hot Encode\n",
    "We still one hot encode the intents so we can use to classify"
   ]
  },
  {
   "cell_type": "code",
   "execution_count": 7,
   "metadata": {
    "scrolled": false
   },
   "outputs": [
    {
     "name": "stdout",
     "output_type": "stream",
     "text": [
      "(816, 53)\n"
     ]
    }
   ],
   "source": [
    "one_hot_output = one_hot_encode([intent], output_word_model, len(intent))[0]\n",
    "print(one_hot_output.shape)"
   ]
  },
  {
   "cell_type": "markdown",
   "metadata": {},
   "source": [
    "## Build and Train the Model"
   ]
  },
  {
   "cell_type": "code",
   "execution_count": 8,
   "metadata": {},
   "outputs": [
    {
     "name": "stderr",
     "output_type": "stream",
     "text": [
      "Using TensorFlow backend.\n"
     ]
    }
   ],
   "source": [
    "from persona.intent.model import IntentModel"
   ]
  },
  {
   "cell_type": "code",
   "execution_count": 14,
   "metadata": {
    "scrolled": false
   },
   "outputs": [
    {
     "name": "stdout",
     "output_type": "stream",
     "text": [
      "_________________________________________________________________\n",
      "Layer (type)                 Output Shape              Param #   \n",
      "=================================================================\n",
      "embedding_4 (Embedding)      (None, None, 53)          12932     \n",
      "_________________________________________________________________\n",
      "lstm_3 (LSTM)                (None, 64)                30208     \n",
      "_________________________________________________________________\n",
      "dense_3 (Dense)              (None, 53)                3445      \n",
      "=================================================================\n",
      "Total params: 46,585\n",
      "Trainable params: 46,585\n",
      "Non-trainable params: 0\n",
      "_________________________________________________________________\n",
      "Epoch 1/100\n",
      "816/816 [==============================] - 1s - loss: 3.8739     \n",
      "Epoch 2/100\n",
      "816/816 [==============================] - 0s - loss: 3.7523     \n",
      "Epoch 3/100\n",
      "816/816 [==============================] - 0s - loss: 3.1962     \n",
      "Epoch 4/100\n",
      "816/816 [==============================] - 0s - loss: 3.0636     \n",
      "Epoch 5/100\n",
      "816/816 [==============================] - 0s - loss: 3.0085     \n",
      "Epoch 6/100\n",
      "816/816 [==============================] - 0s - loss: 2.9027     \n",
      "Epoch 7/100\n",
      "816/816 [==============================] - 0s - loss: 2.8237     \n",
      "Epoch 8/100\n",
      "816/816 [==============================] - 0s - loss: 2.7591     \n",
      "Epoch 9/100\n",
      "816/816 [==============================] - 0s - loss: 2.7049     \n",
      "Epoch 10/100\n",
      "816/816 [==============================] - 0s - loss: 2.6218     \n",
      "Epoch 11/100\n",
      "816/816 [==============================] - 0s - loss: 2.6106     \n",
      "Epoch 12/100\n",
      "816/816 [==============================] - 0s - loss: 2.5952     \n",
      "Epoch 13/100\n",
      "816/816 [==============================] - 0s - loss: 2.4554     \n",
      "Epoch 14/100\n",
      "816/816 [==============================] - 0s - loss: 2.4950     \n",
      "Epoch 15/100\n",
      "816/816 [==============================] - 0s - loss: 2.1928     \n",
      "Epoch 16/100\n",
      "816/816 [==============================] - 0s - loss: 2.3988     \n",
      "Epoch 17/100\n",
      "816/816 [==============================] - 0s - loss: 2.0592     \n",
      "Epoch 18/100\n",
      "816/816 [==============================] - 0s - loss: 2.1439     \n",
      "Epoch 19/100\n",
      "816/816 [==============================] - 0s - loss: 2.5822     \n",
      "Epoch 20/100\n",
      "816/816 [==============================] - 0s - loss: 1.8350     \n",
      "Epoch 21/100\n",
      "816/816 [==============================] - 0s - loss: 1.8195     \n",
      "Epoch 22/100\n",
      "816/816 [==============================] - 0s - loss: 1.8714     \n",
      "Epoch 23/100\n",
      "816/816 [==============================] - 0s - loss: 1.5592     \n",
      "Epoch 24/100\n",
      "816/816 [==============================] - 0s - loss: 1.6145     \n",
      "Epoch 25/100\n",
      "816/816 [==============================] - 0s - loss: 1.7983     \n",
      "Epoch 26/100\n",
      "816/816 [==============================] - 0s - loss: 1.4208     \n",
      "Epoch 27/100\n",
      "816/816 [==============================] - 0s - loss: 1.5940     \n",
      "Epoch 28/100\n",
      "816/816 [==============================] - 0s - loss: 1.2219     \n",
      "Epoch 29/100\n",
      "816/816 [==============================] - 0s - loss: 1.3632     \n",
      "Epoch 30/100\n",
      "816/816 [==============================] - 0s - loss: 1.1134     \n",
      "Epoch 31/100\n",
      "816/816 [==============================] - 0s - loss: 1.3007     \n",
      "Epoch 32/100\n",
      "816/816 [==============================] - 0s - loss: 1.0431     \n",
      "Epoch 33/100\n",
      "816/816 [==============================] - 0s - loss: 1.2867     \n",
      "Epoch 34/100\n",
      "816/816 [==============================] - 0s - loss: 0.9306     \n",
      "Epoch 35/100\n",
      "816/816 [==============================] - 0s - loss: 1.1183     \n",
      "Epoch 36/100\n",
      "816/816 [==============================] - 0s - loss: 0.8356     \n",
      "Epoch 37/100\n",
      "816/816 [==============================] - 0s - loss: 1.0788     \n",
      "Epoch 38/100\n",
      "816/816 [==============================] - 0s - loss: 3.0299     \n",
      "Epoch 39/100\n",
      "816/816 [==============================] - 0s - loss: 1.0501     \n",
      "Epoch 40/100\n",
      "816/816 [==============================] - 0s - loss: 1.0993     \n",
      "Epoch 41/100\n",
      "816/816 [==============================] - 0s - loss: 0.7264     \n",
      "Epoch 42/100\n",
      "816/816 [==============================] - 0s - loss: 0.6215     \n",
      "Epoch 43/100\n",
      "816/816 [==============================] - 0s - loss: 0.5932     \n",
      "Epoch 44/100\n",
      "816/816 [==============================] - 0s - loss: 1.2335     \n",
      "Epoch 45/100\n",
      "816/816 [==============================] - 0s - loss: 0.5380     \n",
      "Epoch 46/100\n",
      "816/816 [==============================] - 0s - loss: 1.1612     \n",
      "Epoch 47/100\n",
      "816/816 [==============================] - 0s - loss: 0.5945     \n",
      "Epoch 48/100\n",
      "816/816 [==============================] - 0s - loss: 0.4580     \n",
      "Epoch 49/100\n",
      "816/816 [==============================] - 0s - loss: 0.8097     \n",
      "Epoch 50/100\n",
      "816/816 [==============================] - 0s - loss: 0.4273     \n",
      "Epoch 51/100\n",
      "816/816 [==============================] - 0s - loss: 0.8462     \n",
      "Epoch 52/100\n",
      "816/816 [==============================] - 0s - loss: 0.4855     \n",
      "Epoch 53/100\n",
      "816/816 [==============================] - 0s - loss: 0.3466     \n",
      "Epoch 54/100\n",
      "816/816 [==============================] - 0s - loss: 0.7453     \n",
      "Epoch 55/100\n",
      "816/816 [==============================] - 0s - loss: 0.3726     \n",
      "Epoch 56/100\n",
      "816/816 [==============================] - 0s - loss: 0.2809     \n",
      "Epoch 57/100\n",
      "816/816 [==============================] - 0s - loss: 0.4097     \n",
      "Epoch 58/100\n",
      "816/816 [==============================] - 0s - loss: 0.6146     \n",
      "Epoch 59/100\n",
      "816/816 [==============================] - 0s - loss: 0.2512     \n",
      "Epoch 60/100\n",
      "816/816 [==============================] - 0s - loss: 0.3701     \n",
      "Epoch 61/100\n",
      "816/816 [==============================] - 0s - loss: 0.6528     \n",
      "Epoch 62/100\n",
      "816/816 [==============================] - 0s - loss: 0.2262     \n",
      "Epoch 63/100\n",
      "816/816 [==============================] - 0s - loss: 0.2209     \n",
      "Epoch 64/100\n",
      "816/816 [==============================] - 0s - loss: 0.4628     \n",
      "Epoch 65/100\n",
      "816/816 [==============================] - 0s - loss: 0.1923     \n",
      "Epoch 66/100\n",
      "816/816 [==============================] - 0s - loss: 0.7628     \n",
      "Epoch 67/100\n",
      "816/816 [==============================] - 0s - loss: 0.1783     \n",
      "Epoch 68/100\n",
      "816/816 [==============================] - 0s - loss: 0.1651     \n",
      "Epoch 69/100\n",
      "816/816 [==============================] - 0s - loss: 0.2474     \n",
      "Epoch 70/100\n",
      "816/816 [==============================] - 0s - loss: 0.6819     \n",
      "Epoch 71/100\n",
      "816/816 [==============================] - 0s - loss: 0.1302     \n",
      "Epoch 72/100\n",
      "816/816 [==============================] - 0s - loss: 0.1513     \n",
      "Epoch 73/100\n",
      "816/816 [==============================] - 0s - loss: 0.4112     \n",
      "Epoch 74/100\n",
      "816/816 [==============================] - 0s - loss: 0.3799     \n",
      "Epoch 75/100\n",
      "816/816 [==============================] - 0s - loss: 0.1071     \n",
      "Epoch 76/100\n",
      "816/816 [==============================] - 0s - loss: 0.0966     \n",
      "Epoch 77/100\n",
      "816/816 [==============================] - 0s - loss: 0.4442     \n",
      "Epoch 78/100\n",
      "816/816 [==============================] - 0s - loss: 0.1853     \n",
      "Epoch 79/100\n",
      "816/816 [==============================] - 0s - loss: 0.1073     \n",
      "Epoch 80/100\n",
      "816/816 [==============================] - 0s - loss: 0.0842     \n",
      "Epoch 81/100\n",
      "816/816 [==============================] - 0s - loss: 0.5796     \n",
      "Epoch 82/100\n",
      "816/816 [==============================] - 0s - loss: 0.0835     \n",
      "Epoch 83/100\n",
      "816/816 [==============================] - 0s - loss: 0.0843     \n",
      "Epoch 84/100\n",
      "816/816 [==============================] - 0s - loss: 0.5009     \n",
      "Epoch 85/100\n",
      "816/816 [==============================] - 0s - loss: 0.0763     \n",
      "Epoch 86/100\n",
      "816/816 [==============================] - 0s - loss: 0.0744     \n",
      "Epoch 87/100\n",
      "816/816 [==============================] - 0s - loss: 0.6259     \n",
      "Epoch 88/100\n",
      "816/816 [==============================] - 0s - loss: 0.1024     \n",
      "Epoch 89/100\n",
      "816/816 [==============================] - 0s - loss: 0.0642     \n",
      "Epoch 90/100\n",
      "816/816 [==============================] - 0s - loss: 0.0806     \n",
      "Epoch 91/100\n",
      "816/816 [==============================] - 0s - loss: 0.6406     \n",
      "Epoch 92/100\n",
      "816/816 [==============================] - 0s - loss: 0.0704     \n",
      "Epoch 93/100\n",
      "816/816 [==============================] - 0s - loss: 0.0593     \n",
      "Epoch 94/100\n",
      "816/816 [==============================] - 0s - loss: 0.3150     \n",
      "Epoch 95/100\n"
     ]
    },
    {
     "name": "stdout",
     "output_type": "stream",
     "text": [
      "816/816 [==============================] - 0s - loss: 0.1500     \n",
      "Epoch 96/100\n",
      "816/816 [==============================] - 0s - loss: 0.0961     \n",
      "Epoch 97/100\n",
      "816/816 [==============================] - 0s - loss: 0.0552     \n",
      "Epoch 98/100\n",
      "816/816 [==============================] - 0s - loss: 0.3167     \n",
      "Epoch 99/100\n",
      "816/816 [==============================] - 0s - loss: 0.1882     \n",
      "Epoch 100/100\n",
      "816/816 [==============================] - 0s - loss: 0.3623     \n"
     ]
    }
   ],
   "source": [
    "input_dim = input_word_model.n_words\n",
    "output_dim = output_word_model.n_words\n",
    "latent_vec = 64\n",
    "\n",
    "model = IntentModel(\"embeddings\")\n",
    "model = model(int_encoded_input, one_hot_output, input_dim, output_dim, latent_vec)\n",
    "model.train(summary=True)"
   ]
  },
  {
   "cell_type": "code",
   "execution_count": null,
   "metadata": {},
   "outputs": [
    {
     "name": "stdout",
     "output_type": "stream",
     "text": [
      "input: what time is it\n",
      "[[  1.  10.  93.  60.  22.   2.   0.   0.   0.   0.   0.   0.   0.   0.\n",
      "    0.]]\n",
      "intent:  time 0.978081\n",
      "input: cpu usage\n",
      "[[   1.  133.  144.    2.    0.    0.    0.    0.    0.    0.    0.    0.\n",
      "     0.    0.    0.]]\n",
      "intent:  cpu.total.usage 0.853811\n",
      "input: what is the weather like\n",
      "[[  1.  10.  60.  29.  34.  55.   2.   0.   0.   0.   0.   0.   0.   0.\n",
      "    0.]]\n",
      "intent:  weather.current 0.999992\n",
      "input: how's the weather\n",
      "[[  1.   3.  29.  34.   2.   0.   0.   0.   0.   0.   0.   0.   0.   0.\n",
      "    0.]]\n",
      "intent:  weather.current 0.968483\n"
     ]
    }
   ],
   "source": [
    "from persona.preprocess import pad_sequence\n",
    "\n",
    "try:\n",
    "    while True:\n",
    "        _input = input(\"input: \")\n",
    "        padded_input = [pad_sequence(_input, MAX_SEQ_LEN).split()]\n",
    "        int_encoded = integer_encode(padded_input, input_word_model, MAX_SEQ_LEN)\n",
    "        print(int_encoded)\n",
    "        prediction, confidence = model.decode(int_encoded, output_word_model)\n",
    "        print(\"intent: \", prediction, confidence)\n",
    "except KeyboardInterrupt:\n",
    "    pass"
   ]
  },
  {
   "cell_type": "code",
   "execution_count": null,
   "metadata": {
    "collapsed": true
   },
   "outputs": [],
   "source": []
  }
 ],
 "metadata": {
  "kernelspec": {
   "display_name": "Python 3",
   "language": "python",
   "name": "python3"
  },
  "language_info": {
   "codemirror_mode": {
    "name": "ipython",
    "version": 3
   },
   "file_extension": ".py",
   "mimetype": "text/x-python",
   "name": "python",
   "nbconvert_exporter": "python",
   "pygments_lexer": "ipython3",
   "version": "3.5.3"
  }
 },
 "nbformat": 4,
 "nbformat_minor": 2
}
