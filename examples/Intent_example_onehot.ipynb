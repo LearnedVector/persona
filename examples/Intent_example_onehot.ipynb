{
 "cells": [
  {
   "cell_type": "markdown",
   "metadata": {},
   "source": [
    "# Persona Intent Parsing"
   ]
  },
  {
   "cell_type": "code",
   "execution_count": 1,
   "metadata": {
    "collapsed": true
   },
   "outputs": [],
   "source": [
    "%load_ext autoreload\n",
    "%autoreload 2\n",
    "import sys\n",
    "import os\n",
    "path = os.path.abspath('../')\n",
    "sys.path.append(path)  # qa"
   ]
  },
  {
   "cell_type": "code",
   "execution_count": 2,
   "metadata": {
    "collapsed": true
   },
   "outputs": [],
   "source": [
    "from persona.preprocess import prepare_json_data, pad_sequences, integer_encode, one_hot_encode, one_hot_encode_target\n",
    "import random"
   ]
  },
  {
   "cell_type": "markdown",
   "metadata": {},
   "source": [
    "## Preprocess the data"
   ]
  },
  {
   "cell_type": "code",
   "execution_count": 3,
   "metadata": {},
   "outputs": [
    {
     "name": "stdout",
     "output_type": "stream",
     "text": [
      "READ 816 sentence pairs\n",
      "Trimmed to 816 sentence pairs\n",
      "Counting words...\n",
      "Counted Words:\n",
      "input 244\n",
      "output 53\n"
     ]
    }
   ],
   "source": [
    "MAX_SEQ_LEN = 15\n",
    "input_word_model, output_word_model, pairs = \\\n",
    "    prepare_json_data('input', 'output', './data/persona.intents.json', MAX_SEQ_LEN)"
   ]
  },
  {
   "cell_type": "code",
   "execution_count": 4,
   "metadata": {},
   "outputs": [
    {
     "name": "stdout",
     "output_type": "stream",
     "text": [
      "what process is using the ram --> mem.max.process\n",
      "is an alarm set --> alarm.list\n",
      "amount of free mem --> mem.free\n",
      "what process is using all the memory --> mem.max.process\n",
      "how much mem is {application} using --> mem.usage.application\n",
      "what process is using the mem --> mem.max.process\n",
      "what process is using the mem --> mem.max.process\n",
      "is it {weekday} --> date\n",
      "open the folder for {place} --> open.place\n",
      "play pandora --> pandora.play\n"
     ]
    }
   ],
   "source": [
    "input_seqs = [pair[0] for pair in pairs]\n",
    "intent = [pair[1] for pair in pairs]\n",
    "for i in range(10):\n",
    "    rando = random.randint(0, len(pairs))\n",
    "    print(input_seqs[rando],\"-->\" ,intent[rando])"
   ]
  },
  {
   "cell_type": "markdown",
   "metadata": {},
   "source": [
    "#### Pad the input\n",
    "This process will add the PAD, SOS, EOS, and UNK tokens to sequence"
   ]
  },
  {
   "cell_type": "code",
   "execution_count": 5,
   "metadata": {
    "scrolled": true
   },
   "outputs": [
    {
     "name": "stdout",
     "output_type": "stream",
     "text": [
      "['SOS', 'why', 'did', '{skill}', 'fail', 'EOS', 'PAD', 'PAD', 'PAD', 'PAD', 'PAD', 'PAD', 'PAD', 'PAD', 'PAD']\n"
     ]
    }
   ],
   "source": [
    "padded_input = pad_sequences(input_seqs, MAX_SEQ_LEN)\n",
    "print(padded_input[1])"
   ]
  },
  {
   "cell_type": "markdown",
   "metadata": {},
   "source": [
    "#### One hot encode"
   ]
  },
  {
   "cell_type": "code",
   "execution_count": 6,
   "metadata": {},
   "outputs": [
    {
     "data": {
      "text/plain": [
       "(816, 15, 244)"
      ]
     },
     "execution_count": 6,
     "metadata": {},
     "output_type": "execute_result"
    }
   ],
   "source": [
    "one_hot_input = one_hot_encode(padded_input, input_word_model, MAX_SEQ_LEN)\n",
    "one_hot_input.shape"
   ]
  },
  {
   "cell_type": "code",
   "execution_count": 7,
   "metadata": {
    "scrolled": false
   },
   "outputs": [
    {
     "name": "stdout",
     "output_type": "stream",
     "text": [
      "(816, 53)\n"
     ]
    }
   ],
   "source": [
    "one_hot_output = one_hot_encode([intent], output_word_model, len(intent))[0]\n",
    "print(one_hot_output.shape)"
   ]
  },
  {
   "cell_type": "markdown",
   "metadata": {},
   "source": [
    "## Build and Train the Model"
   ]
  },
  {
   "cell_type": "code",
   "execution_count": 8,
   "metadata": {},
   "outputs": [
    {
     "name": "stderr",
     "output_type": "stream",
     "text": [
      "Using TensorFlow backend.\n"
     ]
    }
   ],
   "source": [
    "from persona.intent.model import IntentModel"
   ]
  },
  {
   "cell_type": "code",
   "execution_count": null,
   "metadata": {
    "scrolled": false
   },
   "outputs": [
    {
     "name": "stdout",
     "output_type": "stream",
     "text": [
      "_________________________________________________________________\n",
      "Layer (type)                 Output Shape              Param #   \n",
      "=================================================================\n",
      "lstm_1 (LSTM)                (None, 128)               190976    \n",
      "_________________________________________________________________\n",
      "dense_1 (Dense)              (None, 53)                6837      \n",
      "=================================================================\n",
      "Total params: 197,813\n",
      "Trainable params: 197,813\n",
      "Non-trainable params: 0\n",
      "_________________________________________________________________\n",
      "Epoch 1/100\n",
      "816/816 [==============================] - 1s - loss: 4.3591     \n",
      "Epoch 2/100\n",
      "816/816 [==============================] - 0s - loss: 3.1963     \n",
      "Epoch 3/100\n",
      "816/816 [==============================] - 0s - loss: 3.0723     \n",
      "Epoch 4/100\n",
      "816/816 [==============================] - 0s - loss: 3.1043     \n",
      "Epoch 5/100\n",
      "816/816 [==============================] - 0s - loss: 3.0413     \n",
      "Epoch 6/100\n",
      "816/816 [==============================] - 0s - loss: 2.9494     \n",
      "Epoch 7/100\n",
      "816/816 [==============================] - 0s - loss: 3.1255     \n",
      "Epoch 8/100\n",
      "816/816 [==============================] - 1s - loss: 2.7879     \n",
      "Epoch 9/100\n",
      "816/816 [==============================] - 0s - loss: 2.8685     \n",
      "Epoch 10/100\n",
      "816/816 [==============================] - 0s - loss: 2.7698     \n",
      "Epoch 11/100\n",
      "816/816 [==============================] - 0s - loss: 2.9557     \n",
      "Epoch 12/100\n",
      "816/816 [==============================] - 0s - loss: 2.6072     \n",
      "Epoch 13/100\n",
      "816/816 [==============================] - 0s - loss: 2.8720     \n",
      "Epoch 14/100\n",
      "816/816 [==============================] - 0s - loss: 2.7412     \n",
      "Epoch 15/100\n",
      "816/816 [==============================] - 0s - loss: 2.5177     \n",
      "Epoch 16/100\n",
      "816/816 [==============================] - 0s - loss: 2.6697     \n",
      "Epoch 17/100\n",
      "816/816 [==============================] - 0s - loss: 2.4849     \n",
      "Epoch 18/100\n",
      "816/816 [==============================] - 0s - loss: 2.5626     \n",
      "Epoch 19/100\n",
      "816/816 [==============================] - 0s - loss: 2.4360     \n",
      "Epoch 20/100\n",
      "816/816 [==============================] - 0s - loss: 2.4091     \n",
      "Epoch 21/100\n",
      "816/816 [==============================] - 0s - loss: 2.2172     \n",
      "Epoch 22/100\n",
      "816/816 [==============================] - 0s - loss: 2.0831     \n",
      "Epoch 23/100\n",
      "816/816 [==============================] - 0s - loss: 2.0187     \n",
      "Epoch 24/100\n",
      "816/816 [==============================] - 0s - loss: 1.8658     \n",
      "Epoch 25/100\n",
      "816/816 [==============================] - 0s - loss: 1.9943     \n",
      "Epoch 26/100\n",
      "816/816 [==============================] - 0s - loss: 1.7210     \n",
      "Epoch 27/100\n",
      "816/816 [==============================] - 0s - loss: 1.7204     \n",
      "Epoch 28/100\n",
      "816/816 [==============================] - 0s - loss: 2.8846     \n",
      "Epoch 29/100\n",
      "816/816 [==============================] - 0s - loss: 1.5638     \n",
      "Epoch 30/100\n",
      "816/816 [==============================] - 0s - loss: 1.5284     \n",
      "Epoch 31/100\n",
      "816/816 [==============================] - 0s - loss: 1.4631     \n",
      "Epoch 32/100\n",
      "816/816 [==============================] - 0s - loss: 1.4223     \n",
      "Epoch 33/100\n",
      "816/816 [==============================] - 0s - loss: 1.5062     \n",
      "Epoch 34/100\n",
      "816/816 [==============================] - 0s - loss: 1.4046     \n",
      "Epoch 35/100\n",
      "816/816 [==============================] - 0s - loss: 1.1747     \n",
      "Epoch 36/100\n",
      "816/816 [==============================] - 0s - loss: 1.5410     \n",
      "Epoch 37/100\n",
      "816/816 [==============================] - 0s - loss: 1.1093     \n",
      "Epoch 38/100\n",
      "816/816 [==============================] - 0s - loss: 1.4519     \n",
      "Epoch 39/100\n",
      "816/816 [==============================] - 0s - loss: 1.0608     \n",
      "Epoch 40/100\n",
      "816/816 [==============================] - 0s - loss: 1.2258     \n",
      "Epoch 41/100\n",
      "816/816 [==============================] - 0s - loss: 1.0390     \n",
      "Epoch 42/100\n",
      "816/816 [==============================] - 0s - loss: 1.1438     \n",
      "Epoch 43/100\n",
      "816/816 [==============================] - 0s - loss: 0.8652     \n",
      "Epoch 44/100\n",
      "816/816 [==============================] - 0s - loss: 0.9641     \n",
      "Epoch 45/100\n",
      "816/816 [==============================] - 0s - loss: 0.7877     \n",
      "Epoch 46/100\n",
      "816/816 [==============================] - 0s - loss: 1.0978     \n",
      "Epoch 47/100\n",
      "816/816 [==============================] - 0s - loss: 0.6944     \n",
      "Epoch 48/100\n",
      "816/816 [==============================] - 0s - loss: 0.9067     \n",
      "Epoch 49/100\n",
      "816/816 [==============================] - 0s - loss: 1.0344     \n",
      "Epoch 50/100\n",
      "816/816 [==============================] - 0s - loss: 0.5819     \n",
      "Epoch 51/100\n",
      "816/816 [==============================] - 0s - loss: 0.9910     \n",
      "Epoch 52/100\n",
      "816/816 [==============================] - 0s - loss: 0.5217     - ETA: 0s - los\n",
      "Epoch 53/100\n",
      "816/816 [==============================] - 0s - loss: 0.4872     \n",
      "Epoch 54/100\n",
      "816/816 [==============================] - 0s - loss: 0.9847     \n",
      "Epoch 55/100\n",
      "816/816 [==============================] - 0s - loss: 0.4918     \n",
      "Epoch 56/100\n",
      "816/816 [==============================] - 0s - loss: 0.4175     \n",
      "Epoch 57/100\n",
      "816/816 [==============================] - 0s - loss: 0.8709     \n",
      "Epoch 58/100\n",
      "816/816 [==============================] - 0s - loss: 0.3904     \n",
      "Epoch 59/100\n",
      "816/816 [==============================] - 0s - loss: 0.3387     \n",
      "Epoch 60/100\n",
      "816/816 [==============================] - 0s - loss: 0.8141     \n",
      "Epoch 61/100\n",
      "816/816 [==============================] - 0s - loss: 0.3263     \n",
      "Epoch 62/100\n",
      "816/816 [==============================] - 0s - loss: 0.5977     \n",
      "Epoch 63/100\n",
      "816/816 [==============================] - 0s - loss: 0.3090     \n",
      "Epoch 64/100\n",
      "816/816 [==============================] - 0s - loss: 0.5200     \n",
      "Epoch 65/100\n",
      "816/816 [==============================] - 0s - loss: 0.2927     \n",
      "Epoch 66/100\n",
      "816/816 [==============================] - 0s - loss: 0.2626     \n",
      "Epoch 67/100\n",
      "816/816 [==============================] - 0s - loss: 0.5331     \n",
      "Epoch 68/100\n",
      "816/816 [==============================] - 0s - loss: 0.2344     \n",
      "Epoch 69/100\n",
      "816/816 [==============================] - 0s - loss: 0.7705     \n",
      "Epoch 70/100\n",
      "816/816 [==============================] - 0s - loss: 0.5711     \n",
      "Epoch 71/100\n",
      "816/816 [==============================] - 0s - loss: 0.2198     \n",
      "Epoch 72/100\n",
      "816/816 [==============================] - 0s - loss: 0.2083     \n",
      "Epoch 73/100\n",
      "816/816 [==============================] - 0s - loss: 0.2276     \n",
      "Epoch 74/100\n",
      "816/816 [==============================] - 1s - loss: 1.1088     \n",
      "Epoch 75/100\n",
      "816/816 [==============================] - 0s - loss: 0.1922     \n",
      "Epoch 76/100\n",
      "816/816 [==============================] - 0s - loss: 0.1773     \n",
      "Epoch 77/100\n",
      "816/816 [==============================] - 0s - loss: 0.1648     \n",
      "Epoch 78/100\n",
      "816/816 [==============================] - 0s - loss: 0.5461     \n",
      "Epoch 79/100\n",
      "816/816 [==============================] - 0s - loss: 0.1508     \n",
      "Epoch 80/100\n",
      "816/816 [==============================] - 1s - loss: 0.5051     \n",
      "Epoch 81/100\n",
      "816/816 [==============================] - 1s - loss: 0.1483     \n",
      "Epoch 82/100\n",
      "816/816 [==============================] - 0s - loss: 0.1368     \n",
      "Epoch 83/100\n",
      "816/816 [==============================] - 0s - loss: 0.1189     \n",
      "Epoch 84/100\n",
      "816/816 [==============================] - 0s - loss: 1.6971     \n",
      "Epoch 85/100\n",
      "816/816 [==============================] - 0s - loss: 0.1309     \n",
      "Epoch 86/100\n",
      "816/816 [==============================] - 0s - loss: 0.1297     \n",
      "Epoch 87/100\n",
      "816/816 [==============================] - 0s - loss: 0.1001     \n",
      "Epoch 88/100\n",
      "816/816 [==============================] - 1s - loss: 0.3901     \n",
      "Epoch 89/100\n",
      "816/816 [==============================] - 0s - loss: 0.1007     \n",
      "Epoch 90/100\n",
      "816/816 [==============================] - 0s - loss: 0.0992     \n",
      "Epoch 91/100\n",
      "816/816 [==============================] - 0s - loss: 0.5365     \n",
      "Epoch 92/100\n",
      "816/816 [==============================] - 0s - loss: 0.0843     \n",
      "Epoch 93/100\n",
      "816/816 [==============================] - 0s - loss: 0.0963     \n",
      "Epoch 94/100\n",
      "816/816 [==============================] - 0s - loss: 0.1327     \n",
      "Epoch 95/100\n",
      "816/816 [==============================] - 0s - loss: 0.0767     \n",
      "Epoch 96/100\n",
      "816/816 [==============================] - 1s - loss: 0.4121     \n",
      "Epoch 97/100\n"
     ]
    },
    {
     "name": "stdout",
     "output_type": "stream",
     "text": [
      "816/816 [==============================] - 0s - loss: 0.0988     \n",
      "Epoch 98/100\n",
      "816/816 [==============================] - 0s - loss: 0.0707     \n",
      "Epoch 99/100\n",
      "816/816 [==============================] - 0s - loss: 0.0751     \n",
      "Epoch 100/100\n",
      "816/816 [==============================] - 0s - loss: 0.3616     \n"
     ]
    }
   ],
   "source": [
    "model = IntentModel(\"onehot\")\n",
    "model = model(one_hot_input, one_hot_output, input_word_model.n_words, output_word_model.n_words)\n",
    "model.train(summary=True)"
   ]
  },
  {
   "cell_type": "code",
   "execution_count": null,
   "metadata": {},
   "outputs": [
    {
     "name": "stdout",
     "output_type": "stream",
     "text": [
      "input: hello\n",
      "intent:  whats.your.name 0.364178\n",
      "input: what is your name\n",
      "intent:  whats.your.name 0.795767\n",
      "input: weather today\n",
      "intent:  weather.next.hour 0.991494\n",
      "input: how is the weather today\n",
      "intent:  weather.next.hour 0.994774\n",
      "input: what time is it\n",
      "intent:  cpu.total.usage 0.552368\n"
     ]
    }
   ],
   "source": [
    "from persona.preprocess import pad_sequence\n",
    "\n",
    "try:\n",
    "    while True:\n",
    "        _input = input(\"input: \")\n",
    "        padded_input = [pad_sequence(_input, MAX_SEQ_LEN).split()]\n",
    "        one_hot = one_hot_encode(padded_input, input_word_model, MAX_SEQ_LEN)\n",
    "        prediction, confidence = model.decode(one_hot, output_word_model)\n",
    "        print(\"intent: \", prediction, confidence)\n",
    "except KeyboardInterrupt:\n",
    "    pass"
   ]
  }
 ],
 "metadata": {
  "kernelspec": {
   "display_name": "Python 3",
   "language": "python",
   "name": "python3"
  },
  "language_info": {
   "codemirror_mode": {
    "name": "ipython",
    "version": 3
   },
   "file_extension": ".py",
   "mimetype": "text/x-python",
   "name": "python",
   "nbconvert_exporter": "python",
   "pygments_lexer": "ipython3",
   "version": "3.5.3"
  }
 },
 "nbformat": 4,
 "nbformat_minor": 2
}
