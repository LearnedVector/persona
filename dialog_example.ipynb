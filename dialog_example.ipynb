{
 "cells": [
  {
   "cell_type": "markdown",
   "metadata": {},
   "source": [
    "# Persona Dialog Generation"
   ]
  },
  {
   "cell_type": "code",
   "execution_count": 1,
   "metadata": {},
   "outputs": [],
   "source": [
    "%load_ext autoreload\n",
    "%autoreload 2"
   ]
  },
  {
   "cell_type": "code",
   "execution_count": 2,
   "metadata": {},
   "outputs": [],
   "source": [
    "from persona.preprocess import prepare_json_data, pad_sequences, integer_encode, one_hot_encode, one_hot_encode_target\n",
    "import random"
   ]
  },
  {
   "cell_type": "markdown",
   "metadata": {},
   "source": [
    "## Preprocess the data"
   ]
  },
  {
   "cell_type": "code",
   "execution_count": 3,
   "metadata": {},
   "outputs": [
    {
     "name": "stdout",
     "output_type": "stream",
     "text": [
      "READ 804 sentence pairs\n",
      "Trimmed to 715 sentence pairs\n",
      "Counting words...\n",
      "Counted Words:\n",
      "input 261\n",
      "output 131\n"
     ]
    }
   ],
   "source": [
    "MAX_SEQ_LEN = 15\n",
    "input_word_model, output_word_model, pairs = \\\n",
    "    prepare_json_data('input', 'output', './data/persona.dialog.json', MAX_SEQ_LEN)"
   ]
  },
  {
   "cell_type": "code",
   "execution_count": 4,
   "metadata": {},
   "outputs": [
    {
     "name": "stdout",
     "output_type": "stream",
     "text": [
      ":open.path: start a file manager in {path} --> opening {path} in file manager.. .\n",
      ":date: is today {weekday} --> today is the {day}{day suffix} of {month} .\n",
      ":remove.all: clear the todo --> i ve removed all tasks from your todo list .\n",
      ":say: repeat the phrase {words} --> {words} .\n",
      ":update: regenerate {skill} s intent cache --> the intent cache for {skill} has been updated .\n",
      ":show: what s on my todo --> the following are on your todo list: {tasks}\n",
      ":open.path: open file manager to {path} --> opening {path} in file manager.. .\n",
      ":pair: re pair my device --> please pair with the following code: {code}\n",
      ":say: repeat the word {words} --> {words} .\n",
      ":mem.total: total ram --> {total short} of memory is installed .\n"
     ]
    }
   ],
   "source": [
    "input_seqs = [pair[0] for pair in pairs]\n",
    "output_seqs = [pair[1] for pair in pairs]\n",
    "for i in range(10):\n",
    "    rando = random.randint(0, len(pairs))\n",
    "    print(input_seqs[rando],\"-->\" ,output_seqs[rando])"
   ]
  },
  {
   "cell_type": "markdown",
   "metadata": {},
   "source": [
    "#### Pad the input and output\n",
    "This process will add the PAD, SOS, EOS, and UNK tokens to sequence"
   ]
  },
  {
   "cell_type": "code",
   "execution_count": 5,
   "metadata": {
    "scrolled": true
   },
   "outputs": [
    {
     "name": "stdout",
     "output_type": "stream",
     "text": [
      "['SOS', ':why.did.skill.fail:', 'why', 'did', '{skill}', 'fail', 'EOS', 'PAD', 'PAD', 'PAD', 'PAD', 'PAD', 'PAD', 'PAD', 'PAD']\n"
     ]
    }
   ],
   "source": [
    "padded_input = pad_sequences(input_seqs, MAX_SEQ_LEN)\n",
    "print(padded_input[1])"
   ]
  },
  {
   "cell_type": "code",
   "execution_count": 6,
   "metadata": {},
   "outputs": [
    {
     "name": "stdout",
     "output_type": "stream",
     "text": [
      "['SOS', '{skill}', 'failed', 'because', 'of', '{error}', '.', 'EOS', 'PAD', 'PAD', 'PAD', 'PAD', 'PAD', 'PAD', 'PAD']\n"
     ]
    }
   ],
   "source": [
    "padded_output = pad_sequences(output_seqs, MAX_SEQ_LEN)\n",
    "print(padded_output[1])"
   ]
  },
  {
   "cell_type": "markdown",
   "metadata": {},
   "source": [
    "#### One hot encode"
   ]
  },
  {
   "cell_type": "code",
   "execution_count": 7,
   "metadata": {},
   "outputs": [
    {
     "data": {
      "text/plain": [
       "(715, 15, 261)"
      ]
     },
     "execution_count": 7,
     "metadata": {},
     "output_type": "execute_result"
    }
   ],
   "source": [
    "one_hot_input = one_hot_encode(padded_input, input_word_model, MAX_SEQ_LEN)\n",
    "one_hot_input.shape"
   ]
  },
  {
   "cell_type": "code",
   "execution_count": 8,
   "metadata": {},
   "outputs": [
    {
     "name": "stdout",
     "output_type": "stream",
     "text": [
      "(715, 15, 131)\n"
     ]
    },
    {
     "data": {
      "text/plain": [
       "array([[ 0.,  1.,  0., ...,  0.,  0.,  0.],\n",
       "       [ 0.,  0.,  0., ...,  0.,  0.,  0.],\n",
       "       [ 0.,  0.,  0., ...,  0.,  0.,  0.],\n",
       "       ..., \n",
       "       [ 0.,  0.,  0., ...,  0.,  0.,  0.],\n",
       "       [ 0.,  0.,  0., ...,  0.,  0.,  0.],\n",
       "       [ 0.,  0.,  0., ...,  0.,  0.,  0.]])"
      ]
     },
     "execution_count": 8,
     "metadata": {},
     "output_type": "execute_result"
    }
   ],
   "source": [
    "one_hot_output = one_hot_encode(padded_output, output_word_model, MAX_SEQ_LEN)\n",
    "print(one_hot_output.shape)\n",
    "one_hot_output[1]"
   ]
  },
  {
   "cell_type": "code",
   "execution_count": 9,
   "metadata": {},
   "outputs": [
    {
     "data": {
      "text/plain": [
       "(715, 15, 131)"
      ]
     },
     "execution_count": 9,
     "metadata": {},
     "output_type": "execute_result"
    }
   ],
   "source": [
    "one_hot_target = one_hot_encode_target(padded_output, output_word_model, MAX_SEQ_LEN)\n",
    "one_hot_target.shape"
   ]
  },
  {
   "cell_type": "markdown",
   "metadata": {},
   "source": [
    "## Build and Train the Model"
   ]
  },
  {
   "cell_type": "code",
   "execution_count": 10,
   "metadata": {},
   "outputs": [
    {
     "name": "stderr",
     "output_type": "stream",
     "text": [
      "Using TensorFlow backend.\n"
     ]
    }
   ],
   "source": [
    "from persona.model.dialog import DialogModel"
   ]
  },
  {
   "cell_type": "code",
   "execution_count": 11,
   "metadata": {
    "scrolled": false
   },
   "outputs": [
    {
     "name": "stdout",
     "output_type": "stream",
     "text": [
      "____________________________________________________________________________________________________\n",
      "Layer (type)                     Output Shape          Param #     Connected to                     \n",
      "====================================================================================================\n",
      "input_1 (InputLayer)             (None, None, 261)     0                                            \n",
      "____________________________________________________________________________________________________\n",
      "input_2 (InputLayer)             (None, None, 131)     0                                            \n",
      "____________________________________________________________________________________________________\n",
      "lstm_1 (LSTM)                    [(None, 128), (None,  199680      input_1[0][0]                    \n",
      "____________________________________________________________________________________________________\n",
      "lstm_2 (LSTM)                    [(None, None, 128), ( 133120      input_2[0][0]                    \n",
      "                                                                   lstm_1[0][1]                     \n",
      "                                                                   lstm_1[0][2]                     \n",
      "____________________________________________________________________________________________________\n",
      "dense_1 (Dense)                  (None, None, 131)     16899       lstm_2[0][0]                     \n",
      "====================================================================================================\n",
      "Total params: 349,699\n",
      "Trainable params: 349,699\n",
      "Non-trainable params: 0\n",
      "____________________________________________________________________________________________________\n",
      "Epoch 1/100\n",
      "715/715 [==============================] - 2s - loss: 2.5376     \n",
      "Epoch 2/100\n",
      "715/715 [==============================] - 1s - loss: 2.3499     \n",
      "Epoch 3/100\n",
      "715/715 [==============================] - 1s - loss: 2.1181     \n",
      "Epoch 4/100\n",
      "715/715 [==============================] - 1s - loss: 1.9033     \n",
      "Epoch 5/100\n",
      "715/715 [==============================] - 1s - loss: 1.7962     \n",
      "Epoch 6/100\n",
      "715/715 [==============================] - 1s - loss: 1.6851     \n",
      "Epoch 7/100\n",
      "715/715 [==============================] - 1s - loss: 1.9186     \n",
      "Epoch 8/100\n",
      "715/715 [==============================] - 1s - loss: 1.6752     \n",
      "Epoch 9/100\n",
      "715/715 [==============================] - 1s - loss: 1.5392     \n",
      "Epoch 10/100\n",
      "715/715 [==============================] - 1s - loss: 1.3081     \n",
      "Epoch 11/100\n",
      "715/715 [==============================] - 1s - loss: 1.1231     \n",
      "Epoch 12/100\n",
      "715/715 [==============================] - 1s - loss: 0.9913     \n",
      "Epoch 13/100\n",
      "715/715 [==============================] - 1s - loss: 0.9141     \n",
      "Epoch 14/100\n",
      "715/715 [==============================] - 1s - loss: 0.8054     \n",
      "Epoch 15/100\n",
      "715/715 [==============================] - 1s - loss: 0.7973     \n",
      "Epoch 16/100\n",
      "715/715 [==============================] - 1s - loss: 1.1532     \n",
      "Epoch 17/100\n",
      "715/715 [==============================] - 1s - loss: 0.8748     \n",
      "Epoch 18/100\n",
      "715/715 [==============================] - 1s - loss: 0.7258     \n",
      "Epoch 19/100\n",
      "715/715 [==============================] - 1s - loss: 0.6100     \n",
      "Epoch 20/100\n",
      "715/715 [==============================] - 1s - loss: 0.5361     \n",
      "Epoch 21/100\n",
      "715/715 [==============================] - 1s - loss: 0.4739     \n",
      "Epoch 22/100\n",
      "715/715 [==============================] - 1s - loss: 0.4459     \n",
      "Epoch 23/100\n",
      "715/715 [==============================] - 1s - loss: 0.5157     \n",
      "Epoch 24/100\n",
      "715/715 [==============================] - 1s - loss: 0.4226     \n",
      "Epoch 25/100\n",
      "715/715 [==============================] - 1s - loss: 0.3457     \n",
      "Epoch 26/100\n",
      "715/715 [==============================] - 1s - loss: 0.2951     \n",
      "Epoch 27/100\n",
      "715/715 [==============================] - 1s - loss: 0.7298     \n",
      "Epoch 28/100\n",
      "715/715 [==============================] - 1s - loss: 0.5465     \n",
      "Epoch 29/100\n",
      "715/715 [==============================] - 1s - loss: 0.4516     \n",
      "Epoch 30/100\n",
      "715/715 [==============================] - 1s - loss: 0.3685     \n",
      "Epoch 31/100\n",
      "715/715 [==============================] - 1s - loss: 0.3137     \n",
      "Epoch 32/100\n",
      "715/715 [==============================] - 1s - loss: 0.2691     \n",
      "Epoch 33/100\n",
      "715/715 [==============================] - 1s - loss: 0.2318     \n",
      "Epoch 34/100\n",
      "715/715 [==============================] - 1s - loss: 0.2033     \n",
      "Epoch 35/100\n",
      "715/715 [==============================] - 1s - loss: 0.3634     \n",
      "Epoch 36/100\n",
      "715/715 [==============================] - 1s - loss: 0.2630     \n",
      "Epoch 37/100\n",
      "715/715 [==============================] - 1s - loss: 0.2083     \n",
      "Epoch 38/100\n",
      "715/715 [==============================] - 1s - loss: 0.1701     \n",
      "Epoch 39/100\n",
      "715/715 [==============================] - 1s - loss: 0.1473     \n",
      "Epoch 40/100\n",
      "715/715 [==============================] - 1s - loss: 0.1302     \n",
      "Epoch 41/100\n",
      "715/715 [==============================] - 1s - loss: 0.1174     \n",
      "Epoch 42/100\n",
      "715/715 [==============================] - 1s - loss: 0.1116     \n",
      "Epoch 43/100\n",
      "715/715 [==============================] - 1s - loss: 0.1059     \n",
      "Epoch 44/100\n",
      "715/715 [==============================] - 1s - loss: 0.0889     \n",
      "Epoch 45/100\n",
      "715/715 [==============================] - 1s - loss: 0.0889     \n",
      "Epoch 46/100\n",
      "715/715 [==============================] - 1s - loss: 0.0851     \n",
      "Epoch 47/100\n",
      "715/715 [==============================] - 1s - loss: 0.0740     \n",
      "Epoch 48/100\n",
      "715/715 [==============================] - 1s - loss: 0.0879     \n",
      "Epoch 49/100\n",
      "715/715 [==============================] - 1s - loss: 0.0736     \n",
      "Epoch 50/100\n",
      "715/715 [==============================] - 1s - loss: 0.0613     \n",
      "Epoch 51/100\n",
      "715/715 [==============================] - 1s - loss: 0.0537     \n",
      "Epoch 52/100\n",
      "715/715 [==============================] - 1s - loss: 0.0566     \n",
      "Epoch 53/100\n",
      "715/715 [==============================] - 1s - loss: 0.0819     \n",
      "Epoch 54/100\n",
      "715/715 [==============================] - 1s - loss: 0.0704     \n",
      "Epoch 55/100\n",
      "715/715 [==============================] - 1s - loss: 0.0537     \n",
      "Epoch 56/100\n",
      "715/715 [==============================] - 1s - loss: 0.0450     \n",
      "Epoch 57/100\n",
      "715/715 [==============================] - 1s - loss: 0.0461     \n",
      "Epoch 58/100\n",
      "715/715 [==============================] - 1s - loss: 0.0518     \n",
      "Epoch 59/100\n",
      "715/715 [==============================] - 1s - loss: 0.0438     \n",
      "Epoch 60/100\n",
      "715/715 [==============================] - 1s - loss: 0.0371     \n",
      "Epoch 61/100\n",
      "715/715 [==============================] - 1s - loss: 0.0315     \n",
      "Epoch 62/100\n",
      "715/715 [==============================] - 1s - loss: 0.0313     \n",
      "Epoch 63/100\n",
      "715/715 [==============================] - 1s - loss: 0.0251     \n",
      "Epoch 64/100\n",
      "715/715 [==============================] - 1s - loss: 0.0219     \n",
      "Epoch 65/100\n",
      "715/715 [==============================] - 1s - loss: 0.0213     \n",
      "Epoch 66/100\n",
      "715/715 [==============================] - 1s - loss: 0.0239     \n",
      "Epoch 67/100\n",
      "715/715 [==============================] - 1s - loss: 0.0224     \n",
      "Epoch 68/100\n",
      "715/715 [==============================] - 1s - loss: 0.0195     \n",
      "Epoch 69/100\n",
      "715/715 [==============================] - 1s - loss: 0.0162     \n",
      "Epoch 70/100\n",
      "715/715 [==============================] - 1s - loss: 0.0127     \n",
      "Epoch 71/100\n",
      "715/715 [==============================] - 1s - loss: 0.0110     \n",
      "Epoch 72/100\n",
      "715/715 [==============================] - 1s - loss: 0.1597     \n",
      "Epoch 73/100\n",
      "715/715 [==============================] - 1s - loss: 0.4775     \n",
      "Epoch 74/100\n",
      "715/715 [==============================] - 1s - loss: 0.2250     \n",
      "Epoch 75/100\n",
      "715/715 [==============================] - 1s - loss: 0.1549     \n",
      "Epoch 76/100\n",
      "715/715 [==============================] - 1s - loss: 0.1098     \n",
      "Epoch 77/100\n",
      "715/715 [==============================] - 1s - loss: 0.0804     \n",
      "Epoch 78/100\n",
      "715/715 [==============================] - 1s - loss: 0.0620     \n",
      "Epoch 79/100\n",
      "715/715 [==============================] - 1s - loss: 0.0494     \n",
      "Epoch 80/100\n",
      "715/715 [==============================] - 1s - loss: 0.0403     \n",
      "Epoch 81/100\n",
      "715/715 [==============================] - 1s - loss: 0.0337     \n",
      "Epoch 82/100\n",
      "715/715 [==============================] - 1s - loss: 0.0294     \n",
      "Epoch 83/100\n"
     ]
    },
    {
     "name": "stdout",
     "output_type": "stream",
     "text": [
      "715/715 [==============================] - 1s - loss: 0.0261     \n",
      "Epoch 84/100\n",
      "715/715 [==============================] - 1s - loss: 0.0246     \n",
      "Epoch 85/100\n",
      "715/715 [==============================] - 1s - loss: 0.0233     \n",
      "Epoch 86/100\n",
      "715/715 [==============================] - 1s - loss: 0.0193     \n",
      "Epoch 87/100\n",
      "715/715 [==============================] - 1s - loss: 0.0171     \n",
      "Epoch 88/100\n",
      "715/715 [==============================] - 1s - loss: 0.0206     \n",
      "Epoch 89/100\n",
      "715/715 [==============================] - 1s - loss: 0.0396     \n",
      "Epoch 90/100\n",
      "715/715 [==============================] - 1s - loss: 0.0356     \n",
      "Epoch 91/100\n",
      "715/715 [==============================] - 1s - loss: 0.0248     \n",
      "Epoch 92/100\n",
      "715/715 [==============================] - 1s - loss: 0.0195     \n",
      "Epoch 93/100\n",
      "715/715 [==============================] - 1s - loss: 0.0160     \n",
      "Epoch 94/100\n",
      "715/715 [==============================] - 1s - loss: 0.0134     \n",
      "Epoch 95/100\n",
      "715/715 [==============================] - 1s - loss: 0.0115     \n",
      "Epoch 96/100\n",
      "715/715 [==============================] - 1s - loss: 0.0102     \n",
      "Epoch 97/100\n",
      "715/715 [==============================] - 1s - loss: 0.0091     \n",
      "Epoch 98/100\n",
      "715/715 [==============================] - 1s - loss: 0.1831     \n",
      "Epoch 99/100\n",
      "715/715 [==============================] - 1s - loss: 0.0927     \n",
      "Epoch 100/100\n",
      "715/715 [==============================] - 1s - loss: 0.0608     \n"
     ]
    }
   ],
   "source": [
    "model = DialogModel(one_hot_input, one_hot_output, one_hot_target)\n",
    "model.encoder(input_word_model.n_words)\n",
    "model.decoder(output_word_model.n_words)\n",
    "model.train(optimizer='adam', epochs=100, summary=True)"
   ]
  },
  {
   "cell_type": "code",
   "execution_count": 12,
   "metadata": {},
   "outputs": [
    {
     "name": "stdout",
     "output_type": "stream",
     "text": [
      "input: :pair: re pair my device\n",
      "response:  i ve removed all tasks from your todo list . 0.674955844879\n",
      "input: :open.path: start a file manager in {path}\n",
      "response:  opening {path} in file manager.. . 0.989449818929\n",
      "input: :say: repeat the word {words}\n",
      "response:  {words} . 0.972003757954\n",
      "input: :show: what s on my todo\n",
      "response:  the following are on your todo list: {tasks} 0.986812509596\n"
     ]
    }
   ],
   "source": [
    "from persona.preprocess import pad_sequence\n",
    "\n",
    "try:\n",
    "    while True:\n",
    "        _input = input(\"input: \")\n",
    "        padded_input = [pad_sequence(_input, MAX_SEQ_LEN).split()]\n",
    "        one_hot = one_hot_encode(padded_input, input_word_model, MAX_SEQ_LEN)\n",
    "        prediction, confidence = model.decode(one_hot, output_word_model, MAX_SEQ_LEN)\n",
    "        print(\"response: \", prediction, confidence)\n",
    "except KeyboardInterrupt:\n",
    "    pass"
   ]
  }
 ],
 "metadata": {
  "kernelspec": {
   "display_name": "Python 3",
   "language": "python",
   "name": "python3"
  },
  "language_info": {
   "codemirror_mode": {
    "name": "ipython",
    "version": 3
   },
   "file_extension": ".py",
   "mimetype": "text/x-python",
   "name": "python",
   "nbconvert_exporter": "python",
   "pygments_lexer": "ipython3",
   "version": "3.5.3"
  }
 },
 "nbformat": 4,
 "nbformat_minor": 2
}
